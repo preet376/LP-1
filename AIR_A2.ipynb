{
 "cells": [
  {
   "cell_type": "code",
   "execution_count": 4,
   "id": "4c3790a9",
   "metadata": {},
   "outputs": [
    {
     "ename": "ModuleNotFoundError",
     "evalue": "No module named 'nltk'",
     "output_type": "error",
     "traceback": [
      "\u001b[1;31m---------------------------------------------------------------------------\u001b[0m",
      "\u001b[1;31mModuleNotFoundError\u001b[0m                       Traceback (most recent call last)",
      "\u001b[1;32m~\\AppData\\Local\\Temp/ipykernel_62444/1462503502.py\u001b[0m in \u001b[0;36m<module>\u001b[1;34m\u001b[0m\n\u001b[1;32m----> 1\u001b[1;33m \u001b[1;32mimport\u001b[0m \u001b[0mnltk\u001b[0m\u001b[1;33m\u001b[0m\u001b[1;33m\u001b[0m\u001b[0m\n\u001b[0m\u001b[0;32m      2\u001b[0m \u001b[0mnltk\u001b[0m\u001b[1;33m.\u001b[0m\u001b[0mdownload\u001b[0m\u001b[1;33m(\u001b[0m\u001b[1;33m)\u001b[0m\u001b[1;33m\u001b[0m\u001b[1;33m\u001b[0m\u001b[0m\n",
      "\u001b[1;31mModuleNotFoundError\u001b[0m: No module named 'nltk'"
     ]
    }
   ],
   "source": [
    "import nltk\n",
    "nltk.download()"
   ]
  },
  {
   "cell_type": "code",
   "execution_count": null,
   "id": "a8e47d11",
   "metadata": {},
   "outputs": [
    {
     "name": "stdout",
     "output_type": "stream",
     "text": [
      "showing info https://raw.githubusercontent.com/nltk/nltk_data/gh-pages/index.xml\n"
     ]
    }
   ],
   "source": [
    "import nltk\n",
    "nltk.download()"
   ]
  },
  {
   "cell_type": "code",
   "execution_count": null,
   "id": "45501cdb",
   "metadata": {},
   "outputs": [],
   "source": [
    "from nltk.chat.util import Chat, reflections\n",
    "\n",
    "pairs = [\n",
    "            [\n",
    "                r\"my name is(.*)\",\n",
    "                [\"Hello %1, how are you today?\",]\n",
    "            ],\n",
    "            [\n",
    "                r\"what is your name?\",\n",
    "                [\"My name is Jarvis and I will help you with your finacial queries today.\",]\n",
    "            ],\n",
    "            [\n",
    "                r\"where to put(.*)money\",\n",
    "                [\"Basically there are many options to invest- 1.Regional and 2.Stocks.\\nIn which section would you like to invest?\",]\n",
    "            ],\n",
    "            [\n",
    "                r\"Regional(.*)\",\n",
    "                [\"There are many- SBI,HSBC,DB. Which bank would you like to go for?\",]\n",
    "            ],\n",
    "            [\n",
    "                r\"SBI(.*)\",\n",
    "                [\"SBI offers 10 percent Interest.\",]\n",
    "            ],\n",
    "            [\n",
    "                r\"DB(.*)\",\n",
    "                [\"DB offers 09 percent Interest.\",]\n",
    "            ],\n",
    "            [\n",
    "                r\"HSBC(.*)\",\n",
    "                [\"HSBC offers 11 percent Interest.\",]\n",
    "            ],\n",
    "            [\n",
    "                r\"(.*)Stocks(.*)\",\n",
    "                [\"We have 2 companies to offer: 1. AAA 2. BBB.\\n choose any one to know more.\\n\",]\n",
    "            ],\n",
    "            [\n",
    "                r\"AAA(.*)\",\n",
    "                [\"The company AAA has a ROI = 10 percent\",]\n",
    "            ],\n",
    "            [\n",
    "                r\"BBB(.*)\",\n",
    "                [\"The company BBB has a ROI = 12 percent\",]\n",
    "            ],\n",
    "            [\n",
    "                r\"hi|hey|hello(.*)\",\n",
    "                [\"Hello\", \"Hey there\",]\n",
    "            ],\n",
    "            [\n",
    "                r\"quit\",\n",
    "                [\"Signing out, see you again ^_^\",]\n",
    "            ],\n",
    "        ]\n",
    "\n",
    "def chatbot():\n",
    "    '''Chat is the class that contains all the logic to be used by the chatbot,\n",
    "    reflections is a predefined dictionary containing a set of input values and it's corresponding output values\n",
    "    '''\n",
    "    print(\"Booting up...\\nHey I am a simple ChatBot made without ML, only using NLTK library.\\n Please type in English language (lower case) what you want to ask me.\\nPress Q to exit\")\n",
    "    chat = Chat(pairs, reflections)\n",
    "    chat.converse()\n",
    "\n",
    "if __name__ == \"__main__\":\n",
    "    chatbot()"
   ]
  },
  {
   "cell_type": "code",
   "execution_count": null,
   "id": "6a93cb17",
   "metadata": {},
   "outputs": [],
   "source": []
  }
 ],
 "metadata": {
  "kernelspec": {
   "display_name": "Python 3 (ipykernel)",
   "language": "python",
   "name": "python3"
  },
  "language_info": {
   "codemirror_mode": {
    "name": "ipython",
    "version": 3
   },
   "file_extension": ".py",
   "mimetype": "text/x-python",
   "name": "python",
   "nbconvert_exporter": "python",
   "pygments_lexer": "ipython3",
   "version": "3.9.8"
  }
 },
 "nbformat": 4,
 "nbformat_minor": 5
}
