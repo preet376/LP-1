{
  "nbformat": 4,
  "nbformat_minor": 0,
  "metadata": {
    "colab": {
      "name": "LP1_HPC4.ipynb",
      "provenance": [],
      "collapsed_sections": []
    },
    "kernelspec": {
      "name": "python3",
      "display_name": "Python 3"
    },
    "language_info": {
      "name": "python"
    }
  },
  "cells": [
    {
      "cell_type": "code",
      "metadata": {
        "colab": {
          "base_uri": "https://localhost:8080/"
        },
        "id": "zAymyqJHdGey",
        "outputId": "cf08cb79-3d85-4de0-ce41-9cef81c12fcc"
      },
      "source": [
        "%%writefile binary.cpp\n",
        "#include<mpi.h>\n",
        "#include<iostream>\n",
        "using namespace std;\n",
        "\n",
        "int n = 12;\n",
        "int a[] = {1,2,3,4,7,9,13,24,55,56,67,88};\n",
        "int key = 55;\n",
        "\n",
        "//Temporary Array for Slave Process\n",
        "int buffer[20];\n",
        "\n",
        "int binarySearch(int *array, int start, int end, int value) {\n",
        "    int mid;\n",
        "    while(start <= end) {\n",
        "        mid = start + (end-start)/2;\n",
        "        if(array[mid] == value) \n",
        "            return mid;\n",
        "        else if(array[mid] > value)\n",
        "            end = mid - 1;\n",
        "        else\n",
        "            start = mid + 1;\n",
        "    }\n",
        "    return -1;\n",
        "}\n",
        "\n",
        "int main(int argc, char* argv[]) {\n",
        "    \n",
        "    int pid, np, elements_per_process, n_elements_received;\n",
        "    \n",
        "    MPI_Status status;\n",
        "    \n",
        "    //Initialize MPI Environment\n",
        "    MPI_Init(&argc, &argv);\n",
        "    \n",
        "    //To get rank of a process\n",
        "    MPI_Comm_rank(MPI_COMM_WORLD, &pid);\n",
        "    \n",
        "    //To get number of processes which are communicating\n",
        "    //MPI_COMM_WORLD is the default communicator\n",
        "    MPI_Comm_size(MPI_COMM_WORLD, &np);\n",
        "    \n",
        "    //Master Process\n",
        "    if(pid == 0) {\n",
        "        int index, i;\n",
        "\n",
        "        //Check if more than one process is running\n",
        "        if(np > 1) {\n",
        "            for(i=1; i<np-1; i++) {\n",
        "                \n",
        "                index = i * elements_per_process;\n",
        "\n",
        "                //Send the number of elements to the slave process\n",
        "                MPI_Send(&elements_per_process, 1, MPI_INT, i, 0, MPI_COMM_WORLD);\n",
        "\n",
        "                //Send the actual element to the slave process\n",
        "                MPI_Send(&a[index], elements_per_process, MPI_INT, i, 0, MPI_COMM_WORLD);\n",
        "            \n",
        "            }\n",
        "            \n",
        "            //For the last process\n",
        "            \n",
        "            index = i* elements_per_process;\n",
        "            int elements_left = n - index;\n",
        "\n",
        "            //Send the number of elements to the slave process\n",
        "            MPI_Send(&elements_left, 1, MPI_INT, i, 0, MPI_COMM_WORLD);\n",
        "\n",
        "            //Send the actual element to the slave process\n",
        "            MPI_Send(&a[index], elements_left, MPI_INT, i, 0, MPI_COMM_WORLD);\n",
        "        }\n",
        "        \n",
        "        //Master itself performs binary search\n",
        "        int position = binarySearch(a, 0, elements_per_process-1, key);\n",
        "        printf(\"Position by Process ID %d = %d \\n\",pid,position);\n",
        "        if(position != -1)\n",
        "            cout<<\"Found at: \"<<position<<\" by 0\";\n",
        "        \n",
        "        //Collect Partial Result (Search Index) from Slave Processes\n",
        "        int temp;\n",
        "        for(i=1; i<np; i++) {\n",
        "            \n",
        "            //Get Search Index from each Slave Process\n",
        "            MPI_Recv(&temp, 1, MPI_INT, MPI_ANY_SOURCE, 0, MPI_COMM_WORLD, &status);\n",
        "\n",
        "            //Process ID of the slave process\n",
        "            int sender = status.MPI_SOURCE;\n",
        "            \n",
        "            //Display search index if found\n",
        "            if(temp != -1)\n",
        "                cout<<\"Found at: \"<<((sender*elements_per_process)+temp)<<\" by \"<<sender;\n",
        "        }\n",
        "    }\n",
        "    \n",
        "    //Slave Process\n",
        "    else {\n",
        "        \n",
        "        //Recieve number of elements from master process\n",
        "        MPI_Recv(&n_elements_received, 1, MPI_INT, 0, 0, MPI_COMM_WORLD, &status);\n",
        "        \n",
        "        //Recieve the elements from master process\n",
        "        MPI_Recv(&buffer, n_elements_received, MPI_INT, 0, 0, MPI_COMM_WORLD, &status);\n",
        "    \n",
        "        //Calculate the partial index\n",
        "        int position = binarySearch(buffer, 0, n_elements_received-1, key);\n",
        "        printf(\"Position by Process ID %d = %d \\n\",pid,position);\n",
        "        \n",
        "        //Send the partial index back to the master process\n",
        "        MPI_Send(&position, 1, MPI_INT, 0, 0, MPI_COMM_WORLD);\n",
        "    }\n",
        "    \n",
        "    //Terminate MPI Environment\n",
        "    MPI_Finalize();\n",
        "    \n",
        "    return 0;\n",
        "}"
      ],
      "execution_count": null,
      "outputs": [
        {
          "output_type": "stream",
          "name": "stdout",
          "text": [
            "Writing binary.cpp\n"
          ]
        }
      ]
    },
    {
      "cell_type": "code",
      "metadata": {
        "colab": {
          "base_uri": "https://localhost:8080/"
        },
        "id": "UmtGU_budNj5",
        "outputId": "7d5e920e-da33-4245-b64c-3b9ca96e2c45"
      },
      "source": [
        "!mpiCC binary.cpp\n",
        "!mpirun --allow-run-as-root -np 4 ./a.out"
      ],
      "execution_count": null,
      "outputs": [
        {
          "output_type": "stream",
          "name": "stdout",
          "text": [
            "Position by Process ID 0 = -1 \n",
            "Position by Process ID 1 = -1 \n",
            "Position by Process ID 2 = -1 \n",
            "Position by Process ID 3 = 8 \n",
            "Found at: 8 by 3"
          ]
        }
      ]
    },
    {
      "cell_type": "code",
      "metadata": {
        "colab": {
          "base_uri": "https://localhost:8080/"
        },
        "id": "oF-J0x0Hd4hW",
        "outputId": "5bae5344-d943-44df-ae10-3475879585cc"
      },
      "source": [
        "%%writefile bfs.cpp\n",
        "#include<bits/stdc++.h>\n",
        "\n",
        "#include<omp.h>\n",
        "\n",
        "using namespace std;\n",
        "int q[100];\n",
        "int visited[7];\n",
        "int local_q;\n",
        "\n",
        "void bfs(int adj_matrix[7][7], int first, int last, int q[], int n_nodes) {\n",
        "    if(first==last)\n",
        "      return;\n",
        "    \n",
        "    int cur_node = q[first++];\n",
        "    cout<<\"  \"<<cur_node;\n",
        "    \n",
        "    omp_set_num_threads(3);\n",
        "    \n",
        "    #pragma omp parallel for shared(visited)\n",
        "    for(int i=0; i<n_nodes; i++) {\n",
        "        if(adj_matrix[cur_node][i] == 1 && visited[i] == 0){\n",
        "            q[last++] = i;\n",
        "            visited[i] = 1;\n",
        "        }\n",
        "    }\n",
        "    \n",
        "    bfs(adj_matrix, first, last, q, n_nodes);\n",
        "}\n",
        "\n",
        "int main() {\n",
        "    int first = -1;\n",
        "    int last = 0;\n",
        "    int n_nodes = 7;\n",
        "    \n",
        "    for(int i=0; i<n_nodes; i++) {\n",
        "        visited[i] = 0;\n",
        "    }\n",
        "    \n",
        "    int adj_matrix[7][7] = {\n",
        "      {0, 1, 1, 0, 0, 0, 0},\n",
        "      {1, 0, 1, 1, 0, 0, 0},\n",
        "      {1, 1, 0, 0, 1, 0, 0},\n",
        "      {0, 1, 0, 0, 1, 0, 0},\n",
        "      {0, 0, 1, 1, 0, 1, 0},\n",
        "      {0, 0, 0, 0, 1, 0, 1},\n",
        "      {0, 0, 0, 0, 0, 1, 0}\n",
        "    };\n",
        "    \n",
        "    int start_node = 3;\n",
        "    q[last++] = start_node;\n",
        "    first++;\n",
        "    visited[start_node] = 1;\n",
        " \n",
        "    bfs(adj_matrix, first, last, q, n_nodes);\n",
        "    \n",
        "    return 0;\n",
        "    \n",
        "}\n"
      ],
      "execution_count": null,
      "outputs": [
        {
          "output_type": "stream",
          "name": "stdout",
          "text": [
            "Writing bfs.cpp\n"
          ]
        }
      ]
    },
    {
      "cell_type": "code",
      "metadata": {
        "colab": {
          "base_uri": "https://localhost:8080/"
        },
        "id": "lBkGCp_neJYJ",
        "outputId": "9b29d06b-67ea-4dd4-bb57-02d255714f17"
      },
      "source": [
        "!g++ -fopenmp bfs.cpp\n",
        "!./a.out"
      ],
      "execution_count": null,
      "outputs": [
        {
          "output_type": "stream",
          "name": "stdout",
          "text": [
            "  3  1  4  0  2  5  6"
          ]
        }
      ]
    }
  ]
}